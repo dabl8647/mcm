{
 "cells": [
  {
   "cell_type": "code",
   "execution_count": 7,
   "metadata": {},
   "outputs": [
    {
     "ename": "IndentationError",
     "evalue": "expected an indented block (<ipython-input-7-f92895792059>, line 11)",
     "output_type": "error",
     "traceback": [
      "\u001b[1;36m  File \u001b[1;32m\"<ipython-input-7-f92895792059>\"\u001b[1;36m, line \u001b[1;32m11\u001b[0m\n\u001b[1;33m    class Node:\u001b[0m\n\u001b[1;37m        ^\u001b[0m\n\u001b[1;31mIndentationError\u001b[0m\u001b[1;31m:\u001b[0m expected an indented block\n"
     ]
    }
   ],
   "source": [
    "import numpy as np\n",
    "def checkSimilarity(node1, node2):\n",
    "    #This is a function to calculate the similarity between two nodes\n",
    "    #Importantly, all features MUST be normalized to values between 0 and 1\n",
    "    params1 = np.array(node1.params)\n",
    "    params2 = np.array(node2.params)\n",
    "    diff = params1-params2 #Get the difference\n",
    "    tot = np.sum(np.abs(diff))#Take the absolute value and sum to get total distance\n",
    "    return tot\n",
    "def calcValue(network,node):\n",
    "    #Value of info is the total number of connections person has\n",
    "    name = node.name\n",
    "    connections = len(network.adjList[name])\n",
    "    return connections\n",
    "class Node:\n",
    "    def __init__(self,name, params):\n",
    "        #Node Structure\n",
    "        self.name = name\n",
    "        self.params = params\n",
    "class Network:\n",
    "    def __init__(self,n,a,MD):\n",
    "        #Init a network with size n and inherent connection rate a\n",
    "        self.adjList = {} #Adj list for representing graph\n",
    "        self.nodeList = {} #list of added Nodes\n",
    "        self.a = a\n",
    "        self.n = n\n",
    "        self.maxDist = MD #Number of params\n",
    "        \n",
    "    def addNode(self,name,params):\n",
    "        #Add the node to the adjacency list\n",
    "        self.adjList.update({name: []})\n",
    "        #Add the node to the node list\n",
    "        self.nodeList.update({name: Node(name,params)})\n",
    "        for n,a in self.adjList.items():\n",
    "            if(n != name): #Don't want node to connect to itself\n",
    "                currNode = Node(name,params); #Get the node we are adding\n",
    "                checkNode = self.nodeList[n] #Get the node we are seeing if it connects to\n",
    "                tot = checkSimilarity(currNode,checkNode) #Calculate the similarity\n",
    "                Q = 1-(tot+self.a*self.maxDist)/self.maxDist#Convert sim to a prob\n",
    "                name1 = name #Get the name of the node being added\n",
    "                name2 = checkNode.name #Get the name of the candidate connection\n",
    "                self.addEdge(Q,name1,name2) #Check and see if the edge gets added\n",
    "\n",
    "                \n",
    "    def addEdge(self,Q,name1,name2):\n",
    "        prob = (Q+self.a) #Add inherent prob to sim prob\n",
    "        u = np.random.uniform(0,1) \n",
    "        if(u <= prob):\n",
    "            #If the node is to be added, add to both parts of the adjacency list\n",
    "            self.adjList[name2].append(name1)\n",
    "            self.adjList[name1].append(name2)\n",
    "\n",
    "n = 10\n",
    "a = 0.2\n",
    "network = Network(n,a,3)\n",
    "for i in range(n):\n",
    "    params = np.random.uniform(0,1,3)\n",
    "    network.addNode(i,params)"
   ]
  },
  {
   "cell_type": "code",
   "execution_count": null,
   "metadata": {
    "collapsed": true
   },
   "outputs": [],
   "source": []
  }
 ],
 "metadata": {
  "kernelspec": {
   "display_name": "Python 3",
   "language": "python",
   "name": "python3"
  },
  "language_info": {
   "codemirror_mode": {
    "name": "ipython",
    "version": 3
   },
   "file_extension": ".py",
   "mimetype": "text/x-python",
   "name": "python",
   "nbconvert_exporter": "python",
   "pygments_lexer": "ipython3",
   "version": "3.6.3"
  }
 },
 "nbformat": 4,
 "nbformat_minor": 2
}
